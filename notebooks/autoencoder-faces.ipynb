{
 "cells": [
  {
   "cell_type": "markdown",
   "metadata": {},
   "source": [
    "# Autoencoder Demo\n",
    "\n",
    "Demo of autoencoder trained on cartoon faces, I am hoping this will provide a better demo of generating new images by sampling latent vectors and allowing user to play with the slider (Latent Sliders)"
   ]
  },
  {
   "cell_type": "code",
   "execution_count": 4,
   "metadata": {},
   "outputs": [],
   "source": [
    "import os\n",
    "os.environ['CUDA_VISIBLE_DEVICES'] = \"1\"\n",
    "import pickle\n",
    "from glob import glob\n",
    "import numpy as np\n",
    "from time import time\n",
    "from datetime import datetime\n",
    "from PIL import Image\n",
    "import matplotlib.pyplot as plt\n",
    "import matplotlib.gridspec as gridspec\n",
    "%matplotlib inline\n",
    "\n",
    "import tensorflow as tf\n",
    "import tensorflow.keras.backend as K\n",
    "from tensorflow import keras"
   ]
  },
  {
   "cell_type": "code",
   "execution_count": 5,
   "metadata": {},
   "outputs": [
    {
     "data": {
      "text/plain": [
       "'2.0.0-alpha0'"
      ]
     },
     "execution_count": 5,
     "metadata": {},
     "output_type": "execute_result"
    }
   ],
   "source": [
    "tf.__version__"
   ]
  },
  {
   "cell_type": "code",
   "execution_count": 6,
   "metadata": {},
   "outputs": [],
   "source": [
    "AUTOTUNE = tf.data.experimental.AUTOTUNE"
   ]
  },
  {
   "cell_type": "markdown",
   "metadata": {},
   "source": [
    "In this notebook, I am using Cartoon Set <a href=\"https://google.github.io/cartoonset/index.html\">dataset</a> which I think will perform better than the Caricature dataset provided <a href=\"https://cvit.iiit.ac.in/research/projects/cvit-projects/cartoonfaces\">here</a> because the cartoon set images have front facing face images whereas the other dataset also include whole body. There is a lot more variation for network to learn with the IIIT cartoonfaces dataset"
   ]
  },
  {
   "cell_type": "code",
   "execution_count": 7,
   "metadata": {},
   "outputs": [],
   "source": [
    "dirname = \"/mnt/bigdrive/datasets/cartoonset/cartoonset10k/\""
   ]
  },
  {
   "cell_type": "code",
   "execution_count": 8,
   "metadata": {},
   "outputs": [
    {
     "data": {
      "text/plain": [
       "10000"
      ]
     },
     "execution_count": 8,
     "metadata": {},
     "output_type": "execute_result"
    }
   ],
   "source": [
    "fnames = glob('{}/*.png'.format(dirname))\n",
    "len(fnames)"
   ]
  },
  {
   "cell_type": "code",
   "execution_count": 9,
   "metadata": {},
   "outputs": [],
   "source": [
    "path_ds = tf.data.Dataset.from_tensor_slices(fnames)\n",
    "# print('shape: ', repr(path_ds.output_shapes))\n",
    "# print('type: ', path_ds.output_types)"
   ]
  },
  {
   "cell_type": "code",
   "execution_count": 10,
   "metadata": {},
   "outputs": [],
   "source": [
    "def load_preprocess_image(fname):\n",
    "    image = tf.io.read_file(fname)\n",
    "    image = tf.image.decode_jpeg(image, channels=3)\n",
    "    image = tf.image.resize(image, [64, 64])\n",
    "    image /= 255.0\n",
    "    return image"
   ]
  },
  {
   "cell_type": "code",
   "execution_count": 11,
   "metadata": {},
   "outputs": [],
   "source": [
    "image_ds = path_ds.map(load_preprocess_image, num_parallel_calls=AUTOTUNE)"
   ]
  },
  {
   "cell_type": "code",
   "execution_count": 12,
   "metadata": {},
   "outputs": [
    {
     "data": {
      "text/plain": [
       "<ParallelMapDataset shapes: (64, 64, 3), types: tf.float32>"
      ]
     },
     "execution_count": 12,
     "metadata": {},
     "output_type": "execute_result"
    }
   ],
   "source": [
    "image_ds"
   ]
  },
  {
   "cell_type": "code",
   "execution_count": 13,
   "metadata": {},
   "outputs": [],
   "source": [
    "def plot_images(images, grid=(2,2)):\n",
    "    fig, axes = plt.subplots(grid[0], grid[1])\n",
    "    for i, ds in enumerate(zip(axes.flat, images)):        \n",
    "        ax, image = ds\n",
    "        ax.imshow(image)\n",
    "        ax.axis('off')\n",
    "    plt.show()"
   ]
  },
  {
   "cell_type": "code",
   "execution_count": 14,
   "metadata": {},
   "outputs": [
    {
     "data": {
      "image/png": "[encoded data removed]",
      "text/plain": [
       "<Figure size 432x288 with 4 Axes>"
      ]
     },
     "metadata": {
      "needs_background": "light"
     },
     "output_type": "display_data"
    }
   ],
   "source": [
    "plot_images(image_ds.take(4))"
   ]
  },
  {
   "cell_type": "markdown",
   "metadata": {},
   "source": [
    "# MODEL\n",
    "\n",
    "Variational Autoencoder consists of encoder and decoder network just like vanilla autoencoder but instead of directly learning the latent vector $z$, the network learns the gaussian distribution mean and diagonal variance $(\\mu, \\sigma^2I)$"
   ]
  },
  {
   "cell_type": "code",
   "execution_count": 16,
   "metadata": {},
   "outputs": [],
   "source": [
    "INPUT_SHAPE = (64,64,3)\n",
    "LATENT_DIM = 32"
   ]
  },
  {
   "cell_type": "markdown",
   "metadata": {},
   "source": [
    "### Encoder Network\n",
    "\n",
    "We use conv layers for the encoder network"
   ]
  },
  {
   "cell_type": "code",
   "execution_count": 17,
   "metadata": {},
   "outputs": [
    {
     "name": "stdout",
     "output_type": "stream",
     "text": [
      "encoder_last_conv_shape: (2, 2, 256)\n",
      "Model: \"encoder\"\n",
      "__________________________________________________________________________________________________\n",
      "Layer (type)                    Output Shape         Param #     Connected to                     \n",
      "==================================================================================================\n",
      "encoder_input_image (InputLayer [(None, 64, 64, 3)]  0                                            \n",
      "__________________________________________________________________________________________________\n",
      "conv2d (Conv2D)                 (None, 31, 31, 32)   1568        encoder_input_image[0][0]        \n",
      "__________________________________________________________________________________________________\n",
      "conv2d_1 (Conv2D)               (None, 14, 14, 64)   32832       conv2d[0][0]                     \n",
      "__________________________________________________________________________________________________\n",
      "conv2d_2 (Conv2D)               (None, 6, 6, 128)    131200      conv2d_1[0][0]                   \n",
      "__________________________________________________________________________________________________\n",
      "conv2d_3 (Conv2D)               (None, 2, 2, 256)    524544      conv2d_2[0][0]                   \n",
      "__________________________________________________________________________________________________\n",
      "flatten (Flatten)               (None, 1024)         0           conv2d_3[0][0]                   \n",
      "__________________________________________________________________________________________________\n",
      "mean (Dense)                    (None, 32)           32800       flatten[0][0]                    \n",
      "__________________________________________________________________________________________________\n",
      "variance (Dense)                (None, 32)           32800       flatten[0][0]                    \n",
      "==================================================================================================\n",
      "Total params: 755,744\n",
      "Trainable params: 755,744\n",
      "Non-trainable params: 0\n",
      "__________________________________________________________________________________________________\n"
     ]
    }
   ],
   "source": [
    "encoder_input = keras.Input(shape=(INPUT_SHAPE), name='encoder_input_image')\n",
    "x = keras.layers.Conv2D(32, 4, strides=(2,2), activation='relu')(encoder_input)\n",
    "x = keras.layers.Conv2D(64, 4, strides=(2,2), activation='relu')(x)\n",
    "x = keras.layers.Conv2D(128, 4, strides=(2,2), activation='relu')(x)\n",
    "x = keras.layers.Conv2D(256, 4, strides=(2,2), activation='relu')(x)\n",
    "encoder_last_conv_shape = K.int_shape(x)[1:]\n",
    "print(\"encoder_last_conv_shape: {}\".format(encoder_last_conv_shape))\n",
    "x = keras.layers.Flatten()(x)\n",
    "mu = keras.layers.Dense(LATENT_DIM, activation='linear', name=\"mean\")(x)\n",
    "logvar = keras.layers.Dense(LATENT_DIM, activation='linear', name=\"variance\")(x)\n",
    "\n",
    "encoder = keras.Model(encoder_input, [mu, logvar], name='encoder')\n",
    "encoder.summary()"
   ]
  },
  {
   "cell_type": "markdown",
   "metadata": {},
   "source": [
    "After the network has learned the distrubtion parameters, we need a way to sample the latent vector. We do this by creating a Lambda layer that accepts mean and variance as input and sampled latent vector $z$ as output."
   ]
  },
  {
   "cell_type": "code",
   "execution_count": 18,
   "metadata": {},
   "outputs": [],
   "source": [
    "def sample(args):\n",
    "    mean, logvar = args\n",
    "    # reparameterizaton trick: allows gradients to pass through the sample\n",
    "    # 1. sample from unit gaussian, then\n",
    "    # 2. multiply it with standard deviation and add mean\n",
    "    e = tf.random.normal(shape=(K.shape(mean)[0], LATENT_DIM))\n",
    "    return e * tf.math.exp(logvar) + mean"
   ]
  },
  {
   "cell_type": "code",
   "execution_count": 20,
   "metadata": {},
   "outputs": [],
   "source": [
    "sampled_latent_vector = keras.layers.Lambda(sample)([mu, logvar])"
   ]
  },
  {
   "cell_type": "markdown",
   "metadata": {},
   "source": [
    "### Decoder Network\n",
    "For Decoder network, we sample the latent vector $z$ from the gaussian distribution and use it as input for our decoder network which is make of Deconv layers"
   ]
  },
  {
   "cell_type": "code",
   "execution_count": 21,
   "metadata": {},
   "outputs": [
    {
     "name": "stdout",
     "output_type": "stream",
     "text": [
      "Model: \"decoder\"\n",
      "_________________________________________________________________\n",
      "Layer (type)                 Output Shape              Param #   \n",
      "=================================================================\n",
      "decoder_input (InputLayer)   [(None, 32)]              0         \n",
      "_________________________________________________________________\n",
      "dense (Dense)                (None, 1024)              33792     \n",
      "_________________________________________________________________\n",
      "reshape (Reshape)            (None, 1, 1, 1024)        0         \n",
      "_________________________________________________________________\n",
      "conv2d_transpose (Conv2DTran (None, 5, 5, 128)         3276928   \n",
      "_________________________________________________________________\n",
      "conv2d_transpose_1 (Conv2DTr (None, 13, 13, 64)        204864    \n",
      "_________________________________________________________________\n",
      "conv2d_transpose_2 (Conv2DTr (None, 30, 30, 32)        73760     \n",
      "_________________________________________________________________\n",
      "conv2d_transpose_3 (Conv2DTr (None, 64, 64, 3)         3459      \n",
      "=================================================================\n",
      "Total params: 3,592,803\n",
      "Trainable params: 3,592,803\n",
      "Non-trainable params: 0\n",
      "_________________________________________________________________\n"
     ]
    }
   ],
   "source": [
    "decoder_input = keras.layers.Input(shape=K.int_shape(sampled_latent_vector)[1:], name='decoder_input')\n",
    "x = keras.layers.Dense(np.prod(encoder_last_conv_shape))(decoder_input)\n",
    "x = keras.layers.Reshape((1,1,np.prod(encoder_last_conv_shape)))(x)\n",
    "x = keras.layers.Conv2DTranspose(128, kernel_size=5, strides=(2,2), activation='relu')(x)\n",
    "x = keras.layers.Conv2DTranspose(64, kernel_size=5, strides=(2,2), activation='relu')(x)\n",
    "x = keras.layers.Conv2DTranspose(32, kernel_size=6, strides=(2,2), activation='relu')(x)\n",
    "decoder_output = keras.layers.Conv2DTranspose(3, kernel_size=6, strides=(2,2))(x)\n",
    "\n",
    "decoder = keras.Model(decoder_input, decoder_output, name='decoder')\n",
    "decoder.summary()"
   ]
  },
  {
   "cell_type": "markdown",
   "metadata": {},
   "source": [
    "### Loss\n",
    "\n",
    "> VAEs train by maximising evidence lower bound (ELBO) on the marginal log-likelihood\n",
    "$log\\,p(x) >= \\mathbb{E}_{q(z|x)} [ log \\frac {p(x,z)} {q(z|x)}]$\n",
    "\n",
    ">which is done by optimizing single sample Monte Carlo estimate of this expectation:\n",
    "$ log\\,p(x|z) + log\\,p(z) - log\\,q(z|x)$\n",
    "\n",
    "\n",
    "Original Source: <a href=\"https://www.tensorflow.org/beta/tutorials/generative/cvae\">Tensorflow Docs</a>\n"
   ]
  },
  {
   "cell_type": "code",
   "execution_count": 22,
   "metadata": {},
   "outputs": [],
   "source": [
    "# Taken from tensorflow VAE example\n",
    "def log_normal_pdf(sample, mean, logvar):\n",
    "    log2pi = tf.math.log(2. * np.pi)\n",
    "    return tf.reduce_sum(\n",
    "      -.5 * ((sample - mean) ** 2. * tf.exp(-logvar) + logvar + log2pi), axis=1)\n",
    "\n",
    "# @tf.function\n",
    "def calculate_loss(mean, logvar, labels, decoded_logits):\n",
    "    xent_loss = tf.nn.sigmoid_cross_entropy_with_logits(labels=labels, logits=decoded_logits)\n",
    "    z = sample([mean, logvar])\n",
    "    logpx_z = -tf.reduce_sum(xent_loss, axis=[1,2,3])\n",
    "    logpz = log_normal_pdf(z, 0., 0.)\n",
    "    logqz_x = log_normal_pdf(z, mean, logvar)\n",
    "    loss = -tf.reduce_mean(logpx_z + logpz - logqz_x)\n",
    "    return loss"
   ]
  },
  {
   "cell_type": "markdown",
   "metadata": {},
   "source": [
    "### VAE Model\n",
    "\n",
    "And finally, we create a model that combines encoder and decoder to build the VAE"
   ]
  },
  {
   "cell_type": "code",
   "execution_count": 24,
   "metadata": {},
   "outputs": [],
   "source": [
    "class VAE(keras.Model):\n",
    "    def __init__(self, encoder, decoder):\n",
    "        super(VAE, self).__init__()\n",
    "        self.encoder = encoder\n",
    "        self.decoder = decoder\n",
    "    \n",
    "    def train_vars(self):\n",
    "        return self.encoder.trainable_variables + self.decoder.trainable_variables\n",
    "        \n",
    "    def encode(self, x):\n",
    "        encoded = self.encoder(x)\n",
    "        return encoded\n",
    "    \n",
    "    def decode(self, z, apply_sigmoid=False):\n",
    "        logits = self.decoder(z)\n",
    "        if apply_sigmoid:\n",
    "            return tf.sigmoid(logits)\n",
    "        return logits         "
   ]
  },
  {
   "cell_type": "markdown",
   "metadata": {},
   "source": [
    "We then define the training step that performs the following operations on every batch\n",
    "* take training data from batch and pass it through the encoder to approximate the parameters $(\\mu \\,,  \\sigma^2)$ of posterior distribution\n",
    "* sample latent variables from the posterior\n",
    "* pass the samples to the decoder network to generated decoded logits\n",
    "* calculate loss using decoded logits and training inputs\n",
    "* compute and apply gradients"
   ]
  },
  {
   "cell_type": "code",
   "execution_count": 31,
   "metadata": {},
   "outputs": [],
   "source": [
    "# Train step\n",
    "\n",
    "# @tf.function\n",
    "def train_step(train_x, model, optimizer):\n",
    "    with tf.GradientTape() as tape:\n",
    "        # use training inputs to approximate the posterior \n",
    "        mean, logvar = model.encode(train_x)\n",
    "        # sample latent vector from the learned mean and variance\n",
    "        latent_z = sample([mean, logvar])\n",
    "        # decode z\n",
    "        decoded_logits = model.decode(latent_z)\n",
    "        # calculate loss            \n",
    "        loss = calculate_loss(mean, logvar, labels=train_x, decoded_logits=decoded_logits)        \n",
    "        \n",
    "    # calculate gradients\n",
    "    gradients = tape.gradient(loss, model.trainable_variables)\n",
    "    # apply gradients\n",
    "    optimizer.apply_gradients(zip(gradients, model.trainable_variables))\n",
    "    return loss"
   ]
  },
  {
   "cell_type": "markdown",
   "metadata": {},
   "source": [
    "### DATASET\n",
    "\n",
    "Next, we load the numpy dataset using Dataset api from tf.data and define parameters such as batch size, buffer size to shuffle the data"
   ]
  },
  {
   "cell_type": "code",
   "execution_count": 28,
   "metadata": {},
   "outputs": [],
   "source": [
    "BATCH_SIZE = 64\n",
    "SHUFFLE_BUFFER_SIZE = len(fnames)\n",
    "train_dataset = image_ds \\\n",
    "    .shuffle(SHUFFLE_BUFFER_SIZE) \\\n",
    "    .repeat() \\\n",
    "    .batch(BATCH_SIZE) \\\n",
    "    .prefetch(buffer_size=AUTOTUNE)"
   ]
  },
  {
   "cell_type": "code",
   "execution_count": 88,
   "metadata": {},
   "outputs": [],
   "source": [
    "# Helper function to sample latent space and generate new images\n",
    "\n",
    "def _plot_image(ax, image):\n",
    "    ax.imshow(image)\n",
    "    ax.axis('off')\n",
    "    ax.set_aspect('equal')\n",
    "    \n",
    "def generate_sample_images(model, latent_z=None, plot_shape=(2,2), plot=True, save=False, save_name='toons/imgs/out.png'):\n",
    "    if latent_z is None:\n",
    "        latent_z = tf.random.normal(shape=(np.prod(plot_shape), LATENT_DIM))\n",
    "    # decode z\n",
    "    decoded = model.decode(latent_z, apply_sigmoid=True)\n",
    "    if plot:\n",
    "        fig, axs = plt.subplots(plot_shape[0], plot_shape[1], figsize=(6, 6))                \n",
    "        if np.prod(plot_shape) > 1:\n",
    "            for i, ax in enumerate(axs.flat):\n",
    "                image = decoded[i, :, :, :]\n",
    "                _plot_image(ax, image)\n",
    "    #             ax.imshow(decoded[i, :, :, :])\n",
    "    #             ax.axis('off')\n",
    "    #             ax.set_aspect('equal')\n",
    "            plt.subplots_adjust(wspace=0, hspace=0)  \n",
    "        else:\n",
    "            image = decoded[0, :, :, :]\n",
    "            _plot_image(axs, image)\n",
    "    if save:\n",
    "        plt.savefig(save_name)\n",
    "        plt.show()"
   ]
  },
  {
   "cell_type": "markdown",
   "metadata": {},
   "source": [
    "Now that we have all the ingredients in place, let's begin the training.\n",
    "The following cell shows the main training loop."
   ]
  },
  {
   "cell_type": "code",
   "execution_count": 33,
   "metadata": {},
   "outputs": [
    {
     "name": "stdout",
     "output_type": "stream",
     "text": [
      "Restored from ./toons/ckpt/ckpt-5\n"
     ]
    }
   ],
   "source": [
    "# Number of training epochs\n",
    "EPOCHS = 1000\n",
    "# Initialize the Variational Autoencoder model \n",
    "model = VAE(encoder, decoder)\n",
    "# Define optimizer\n",
    "optimizer = keras.optimizers.Adam(1e-4)\n",
    "\n",
    "# keep track of losses\n",
    "losses = []\n",
    "\n",
    "# How often to print the loss\n",
    "print_every = max(int(0.1 * EPOCHS), 1)\n",
    "\n",
    "# Model Checkpoint \n",
    "# Save model and optimizer\n",
    "ckpt = tf.train.Checkpoint(optimizer=optimizer, model=model)\n",
    "# Set save path and how many checkpoints to save\n",
    "manager = tf.train.CheckpointManager(ckpt, './toons/ckpt/', max_to_keep=2)\n",
    "# Load the latest checkpoint and restore\n",
    "latest_ckpt = manager.latest_checkpoint\n",
    "ckpt.restore(latest_ckpt)\n",
    "\n",
    "if latest_ckpt:\n",
    "    print('Restored from {}'.format(latest_ckpt))\n",
    "else:\n",
    "    print('Training from scratch')\n",
    "# How often to save the checkpoint\n",
    "save_every = max(int(0.3 * EPOCHS), 1)\n",
    "\n",
    "# We are now ready to start the training loop\n",
    "elapsed_loop_time = time()\n",
    "for epoch in range(0, EPOCHS):\n",
    "    for train_x in train_dataset:\n",
    "        loss = train_step(train_x, model, optimizer)\n",
    "        losses.append(loss)\n",
    "    if epoch % print_every == 0:\n",
    "        now = datetime.now().strftime('%Y-%m-%d %H:%M:%S')\n",
    "        print('{}:vEpoch {}/{}: train loss {} in {} seconds'.format(epoch, EPOCHS, losses[-1], time()-elapsed_loop_time))         \n",
    "        generate_sample_images(model, plot_shape=(4,4), save=True, save_name='./toons/imgs/img-{}.png'.format(epoch))\n",
    "        elapsed_loop_time = time()\n",
    "    if epoch % save_every == 0:\n",
    "        save_path = manager.save()\n",
    "        print('Saved checkpoint for step {}:{}'.format(epoch, save_path))\n",
    "        \n",
    "# Final Save\n",
    "save_path = manager.save()\n",
    "print('Saved checkpoint for step {}'.format(save_path))        "
   ]
  },
  {
   "cell_type": "code",
   "execution_count": 81,
   "metadata": {},
   "outputs": [
    {
     "data": {
      "image/png": "[encoded data removed]",
      "text/plain": [
       "<Figure size 432x432 with 4 Axes>"
      ]
     },
     "metadata": {
      "needs_background": "light"
     },
     "output_type": "display_data"
    }
   ],
   "source": [
    "# Training\n",
    "#10 + 500 + 10 + 1000 + 10000\n",
    "generate_sample_images(model, plot_shape=(2,2))"
   ]
  },
  {
   "cell_type": "code",
   "execution_count": null,
   "metadata": {},
   "outputs": [],
   "source": []
  },
  {
   "cell_type": "code",
   "execution_count": 1,
   "metadata": {},
   "outputs": [],
   "source": [
    "from __future__ import print_function\n",
    "from ipywidgets import interact, interactive, fixed, interact_manual\n",
    "import ipywidgets as widgets"
   ]
  },
  {
   "cell_type": "code",
   "execution_count": 2,
   "metadata": {},
   "outputs": [],
   "source": [
    "def f(x):\n",
    "    return x"
   ]
  },
  {
   "cell_type": "code",
   "execution_count": 38,
   "metadata": {},
   "outputs": [
    {
     "data": {
      "application/vnd.jupyter.widget-view+json": {
       "model_id": "b12ca56221c04a049da5127396d6e22e",
       "version_major": 2,
       "version_minor": 0
      },
      "text/plain": [
       "interactive(children=(FloatSlider(value=0.5, description='x', max=1.0), Output()), _dom_classes=('widget-inter…"
      ]
     },
     "metadata": {},
     "output_type": "display_data"
    },
    {
     "data": {
      "text/plain": [
       "<function __main__.f(x)>"
      ]
     },
     "execution_count": 38,
     "metadata": {},
     "output_type": "execute_result"
    }
   ],
   "source": [
    "interact(f, x=(0.0, 1.0))"
   ]
  },
  {
   "cell_type": "markdown",
   "metadata": {},
   "source": [
    "# Latent Sliders\n",
    "Lets play with the latent variables to see how they impact the generated cartoon"
   ]
  },
  {
   "cell_type": "code",
   "execution_count": 82,
   "metadata": {},
   "outputs": [],
   "source": [
    "# Generate as many sliders as the number of latent dimensions\n",
    "sliders = []\n",
    "for i in range(LATENT_DIM):\n",
    "    rnd = np.random.randn()\n",
    "    slider = widgets.FloatSlider(min=0.0, max=1.0, step=0.1, value=rnd, description='Slider {}'.format(i))\n",
    "    sliders.append(slider)\n",
    "\n",
    "ui = widgets.VBox(sliders)"
   ]
  },
  {
   "cell_type": "code",
   "execution_count": 89,
   "metadata": {},
   "outputs": [],
   "source": [
    "def latent_slider_output(**kwargs):\n",
    "    z = np.asarray([value for key, value in kwargs.items()])\n",
    "    z = z.reshape((1,-1))\n",
    "    print(z.shape, type(z))\n",
    "    generate_sample_images(model, latent_z=z, plot_shape=(1,1))\n",
    "#     for key, value in kwargs.items():\n",
    "#         print(key, value)\n",
    "    \n",
    "out = widgets.interactive_output(latent_slider_output, {'slider-{}'.format(i):v for i, v in enumerate(sliders)})"
   ]
  },
  {
   "cell_type": "code",
   "execution_count": 90,
   "metadata": {},
   "outputs": [
    {
     "data": {
      "application/vnd.jupyter.widget-view+json": {
       "model_id": "db2ae843b7384c7cbc658fcdbc2c7a6d",
       "version_major": 2,
       "version_minor": 0
      },
      "text/plain": [
       "VBox(children=(FloatSlider(value=0.0, description='Slider 0', max=1.0), FloatSlider(value=0.38836901285751857,…"
      ]
     },
     "metadata": {},
     "output_type": "display_data"
    },
    {
     "data": {
      "application/vnd.jupyter.widget-view+json": {
       "model_id": "7762c8f942a64f87b6a9a0dc048ee027",
       "version_major": 2,
       "version_minor": 0
      },
      "text/plain": [
       "Output(outputs=({'name': 'stdout', 'text': \"(1, 32) <class 'numpy.ndarray'>\\n\", 'output_type': 'stream'}, {'ou…"
      ]
     },
     "metadata": {},
     "output_type": "display_data"
    }
   ],
   "source": [
    "display(ui, out)"
   ]
  },
  {
   "cell_type": "code",
   "execution_count": null,
   "metadata": {},
   "outputs": [],
   "source": []
  }
 ],
 "metadata": {
  "kernelspec": {
   "display_name": "tensorflow-2.0",
   "language": "python",
   "name": "tf2"
  },
  "language_info": {
   "codemirror_mode": {
    "name": "ipython",
    "version": 3
   },
   "file_extension": ".py",
   "mimetype": "text/x-python",
   "name": "python",
   "nbconvert_exporter": "python",
   "pygments_lexer": "ipython3",
   "version": "3.6.8"
  }
 },
 "nbformat": 4,
 "nbformat_minor": 4
}
