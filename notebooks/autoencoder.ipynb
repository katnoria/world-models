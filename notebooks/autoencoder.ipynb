{
 "cells": [
  {
   "cell_type": "markdown",
   "metadata": {},
   "source": [
    "# Variational Autoencoder (V)\n",
    "This notebook trains the variational autoencoder using data collected from 10K random rollouts"
   ]
  },
  {
   "cell_type": "code",
   "execution_count": 1,
   "metadata": {},
   "outputs": [],
   "source": [
    "import os\n",
    "os.environ['CUDA_VISIBLE_DEVICES'] = \"0\"\n",
    "import pickle\n",
    "from glob import glob\n",
    "import numpy as np\n",
    "from PIL import Image\n",
    "import matplotlib.pyplot as plt\n",
    "%matplotlib inline\n",
    "\n",
    "import tensorflow as tf\n",
    "import tensorflow.keras.backend as K\n",
    "from tensorflow import keras"
   ]
  },
  {
   "cell_type": "code",
   "execution_count": 2,
   "metadata": {},
   "outputs": [
    {
     "data": {
      "text/plain": [
       "'2.0.0-alpha0'"
      ]
     },
     "execution_count": 2,
     "metadata": {},
     "output_type": "execute_result"
    }
   ],
   "source": [
    "tf.__version__"
   ]
  },
  {
   "cell_type": "markdown",
   "metadata": {},
   "source": [
    "## DATA\n",
    "\n",
    "Load pickled data using tf.data.Dataset"
   ]
  },
  {
   "cell_type": "code",
   "execution_count": 3,
   "metadata": {},
   "outputs": [],
   "source": [
    "DATASET_DIR = '../src/dataset'"
   ]
  },
  {
   "cell_type": "code",
   "execution_count": 4,
   "metadata": {},
   "outputs": [
    {
     "data": {
      "text/plain": [
       "10000"
      ]
     },
     "execution_count": 4,
     "metadata": {},
     "output_type": "execute_result"
    }
   ],
   "source": [
    "filenames = glob('{}/*'.format(DATASET_DIR))\n",
    "len(filenames)"
   ]
  },
  {
   "cell_type": "code",
   "execution_count": 5,
   "metadata": {},
   "outputs": [],
   "source": [
    "rollout_data = pickle.load(open(filenames[0], 'rb'))"
   ]
  },
  {
   "cell_type": "code",
   "execution_count": 30,
   "metadata": {},
   "outputs": [
    {
     "data": {
      "text/plain": [
       "((96, 96, 3), 1000)"
      ]
     },
     "execution_count": 30,
     "metadata": {},
     "output_type": "execute_result"
    }
   ],
   "source": [
    "rollout_data[0][0].shape, len(rollout_data)"
   ]
  },
  {
   "cell_type": "markdown",
   "metadata": {},
   "source": [
    "We first load 30% random files to train and test out autoencoder"
   ]
  },
  {
   "cell_type": "code",
   "execution_count": 6,
   "metadata": {},
   "outputs": [
    {
     "data": {
      "text/plain": [
       "300"
      ]
     },
     "execution_count": 6,
     "metadata": {},
     "output_type": "execute_result"
    }
   ],
   "source": [
    "random_fnames = np.random.choice(filenames, int(len(filenames)*0.03))\n",
    "len(random_fnames)"
   ]
  },
  {
   "cell_type": "markdown",
   "metadata": {},
   "source": [
    "Each rollout is saved as a pickled list of tuple(state, action, next_state). Let load the data and plot a random state."
   ]
  },
  {
   "cell_type": "code",
   "execution_count": 7,
   "metadata": {},
   "outputs": [
    {
     "data": {
      "text/plain": [
       "300000"
      ]
     },
     "execution_count": 7,
     "metadata": {},
     "output_type": "execute_result"
    }
   ],
   "source": [
    "dataset = [row[0] for fname in random_fnames for row in pickle.load(open(fname, 'rb'))]\n",
    "len(dataset)"
   ]
  },
  {
   "cell_type": "code",
   "execution_count": 29,
   "metadata": {},
   "outputs": [
    {
     "data": {
      "text/plain": [
       "((96, 96, 3), 300000)"
      ]
     },
     "execution_count": 29,
     "metadata": {},
     "output_type": "execute_result"
    }
   ],
   "source": [
    "dataset[0].shape, len(dataset)"
   ]
  },
  {
   "cell_type": "code",
   "execution_count": 37,
   "metadata": {},
   "outputs": [
    {
     "data": {
      "image/png": "[encoded data removed]",
      "text/plain": [
       "<Figure size 432x288 with 1 Axes>"
      ]
     },
     "metadata": {
      "needs_background": "light"
     },
     "output_type": "display_data"
    }
   ],
   "source": [
    "# plt.imshow(dataset[np.random.randint(0, len(dataset))])\n",
    "plt.imshow(rollout_data[241][0])\n",
    "plt.show()"
   ]
  },
  {
   "cell_type": "code",
   "execution_count": null,
   "metadata": {},
   "outputs": [],
   "source": []
  },
  {
   "cell_type": "markdown",
   "metadata": {},
   "source": [
    "we use Dataset API to load and shuffle the data"
   ]
  },
  {
   "cell_type": "code",
   "execution_count": null,
   "metadata": {},
   "outputs": [],
   "source": [
    "train_ds = tf.data.Dataset.from_tensor_slices(dataset)"
   ]
  },
  {
   "cell_type": "code",
   "execution_count": null,
   "metadata": {},
   "outputs": [],
   "source": [
    "BATCH_SIZE = 64\n",
    "SHUFFLE_BUFFER_SIZE = 100\n",
    "train_ds = train_ds.shuffle(SHUFFLE_BUFFER_SIZE).batch(BATCH_SIZE)"
   ]
  },
  {
   "cell_type": "markdown",
   "metadata": {},
   "source": [
    "# MODEL\n",
    "\n",
    "Variational Autoencoder consists of encoder and decoder network just like vanilla autoencoder but instead of directly learning the latent vector Z, the network learns the gaussian distribution mean and diagonal variance $(\\mu, \\sigma^2I)$"
   ]
  },
  {
   "cell_type": "code",
   "execution_count": 3,
   "metadata": {},
   "outputs": [],
   "source": [
    "input_shape = (64,64,3)\n",
    "num_latent_vec = 32"
   ]
  },
  {
   "cell_type": "markdown",
   "metadata": {},
   "source": [
    "### Encoder Network\n",
    "\n",
    "We use conv layers for the encoder network"
   ]
  },
  {
   "cell_type": "code",
   "execution_count": 57,
   "metadata": {},
   "outputs": [
    {
     "name": "stdout",
     "output_type": "stream",
     "text": [
      "encoder_last_conv_shape: (2, 2, 256)\n",
      "Model: \"encoder\"\n",
      "__________________________________________________________________________________________________\n",
      "Layer (type)                    Output Shape         Param #     Connected to                     \n",
      "==================================================================================================\n",
      "encoder_input_image (InputLayer [(None, 64, 64, 3)]  0                                            \n",
      "__________________________________________________________________________________________________\n",
      "conv2d_62 (Conv2D)              (None, 31, 31, 32)   1568        encoder_input_image[0][0]        \n",
      "__________________________________________________________________________________________________\n",
      "conv2d_63 (Conv2D)              (None, 14, 14, 64)   32832       conv2d_62[0][0]                  \n",
      "__________________________________________________________________________________________________\n",
      "conv2d_64 (Conv2D)              (None, 6, 6, 128)    131200      conv2d_63[0][0]                  \n",
      "__________________________________________________________________________________________________\n",
      "conv2d_65 (Conv2D)              (None, 2, 2, 256)    524544      conv2d_64[0][0]                  \n",
      "__________________________________________________________________________________________________\n",
      "flatten_2 (Flatten)             (None, 1024)         0           conv2d_65[0][0]                  \n",
      "__________________________________________________________________________________________________\n",
      "mean (Dense)                    (None, 32)           32800       flatten_2[0][0]                  \n",
      "__________________________________________________________________________________________________\n",
      "variance (Dense)                (None, 32)           32800       flatten_2[0][0]                  \n",
      "==================================================================================================\n",
      "Total params: 755,744\n",
      "Trainable params: 755,744\n",
      "Non-trainable params: 0\n",
      "__________________________________________________________________________________________________\n"
     ]
    }
   ],
   "source": [
    "encoder_input = keras.Input(shape=(input_shape), name='encoder_input_image')\n",
    "x = keras.layers.Conv2D(32, 4, (2,2), activation='relu')(encoder_input)\n",
    "x = keras.layers.Conv2D(64, 4, (2,2), activation='relu')(x)\n",
    "x = keras.layers.Conv2D(128, 4, (2,2), activation='relu')(x)\n",
    "x = keras.layers.Conv2D(256, 4, (2,2), activation='relu')(x)\n",
    "encoder_last_conv_shape = K.int_shape(x)[1:]\n",
    "print(\"encoder_last_conv_shape: {}\".format(encoder_last_conv_shape))\n",
    "x = keras.layers.Flatten()(x)\n",
    "mu = keras.layers.Dense(num_latent_vec, activation='linear', name=\"mean\")(x)\n",
    "logvar = keras.layers.Dense(num_latent_vec, activation='linear', name=\"variance\")(x)\n",
    "\n",
    "encoder = keras.Model(encoder_input, [mu, logvar], name='encoder')\n",
    "encoder.summary()"
   ]
  },
  {
   "cell_type": "markdown",
   "metadata": {},
   "source": [
    "After the network has learned the gaussian params, we need a way to sample the latent vector. We do this by creating a Lambda layer that accepts mean and variance as input and sampled latent vector as output."
   ]
  },
  {
   "cell_type": "code",
   "execution_count": 58,
   "metadata": {},
   "outputs": [],
   "source": [
    "def sample(args):\n",
    "    mu, logvar = args\n",
    "    # reparameterizaton trick: allows gradients to pass through the sample\n",
    "    # 1. sample from unit gaussian, then\n",
    "    # 2. multiply it with standard deviation and add mean\n",
    "    e = tf.random.normal(shape=(K.shape(mu)[0], num_latent_vec))\n",
    "    return e * tf.math.exp(logvar) + mu"
   ]
  },
  {
   "cell_type": "code",
   "execution_count": 45,
   "metadata": {},
   "outputs": [],
   "source": [
    "sampled_latent_vector = keras.layers.Lambda(sample)([mu, logvar])"
   ]
  },
  {
   "cell_type": "markdown",
   "metadata": {},
   "source": [
    "### Decoder Network\n",
    "For Decoder network, we sample the latent vector from the gaussian distribution and use it as input for our decoder network which is make of Deconv layers"
   ]
  },
  {
   "cell_type": "code",
   "execution_count": 56,
   "metadata": {},
   "outputs": [
    {
     "name": "stdout",
     "output_type": "stream",
     "text": [
      "Model: \"decoder\"\n",
      "_________________________________________________________________\n",
      "Layer (type)                 Output Shape              Param #   \n",
      "=================================================================\n",
      "decoder_input (InputLayer)   [(None, 32)]              0         \n",
      "_________________________________________________________________\n",
      "dense_11 (Dense)             (None, 1024)              33792     \n",
      "_________________________________________________________________\n",
      "reshape_11 (Reshape)         (None, 1, 1, 1024)        0         \n",
      "_________________________________________________________________\n",
      "conv2d_transpose_24 (Conv2DT (None, 5, 5, 128)         3276928   \n",
      "_________________________________________________________________\n",
      "conv2d_transpose_25 (Conv2DT (None, 13, 13, 64)        204864    \n",
      "_________________________________________________________________\n",
      "conv2d_transpose_26 (Conv2DT (None, 30, 30, 32)        73760     \n",
      "_________________________________________________________________\n",
      "conv2d_transpose_27 (Conv2DT (None, 64, 64, 3)         3459      \n",
      "=================================================================\n",
      "Total params: 3,592,803\n",
      "Trainable params: 3,592,803\n",
      "Non-trainable params: 0\n",
      "_________________________________________________________________\n"
     ]
    }
   ],
   "source": [
    "decoder_input = keras.layers.Input(shape=K.int_shape(sampled_latent_vector)[1:], name='decoder_input')\n",
    "x = keras.layers.Dense(np.prod(encoder_last_conv_shape))(decoder_input)\n",
    "x = keras.layers.Reshape((1,1,np.prod(encoder_last_conv_shape)))(x)\n",
    "x = keras.layers.Conv2DTranspose(128, 5, (2,2), activation='relu')(x)\n",
    "x = keras.layers.Conv2DTranspose(64, 5, (2,2), activation='relu')(x)\n",
    "x = keras.layers.Conv2DTranspose(32, 6, (2,2), activation='relu')(x)\n",
    "decoder_output = keras.layers.Conv2DTranspose(3, 6, (2,2), activation='sigmoid')(x)\n",
    "\n",
    "decoder = keras.Model(decoder_input, decoder_output, name='decoder')\n",
    "decoder.summary()"
   ]
  },
  {
   "cell_type": "code",
   "execution_count": null,
   "metadata": {},
   "outputs": [],
   "source": []
  },
  {
   "cell_type": "code",
   "execution_count": null,
   "metadata": {},
   "outputs": [],
   "source": [
    "class VAELossLayer(keras.layers.Layer):\n",
    "    def calculate_loss(self, original, decoded):\n",
    "        original = K.flatten(original)\n",
    "        decoded = K.flatten(original)\n",
    "        \n",
    "        \n",
    "    \n",
    "    def call(self, inputs):\n",
    "        x, decoded = inputs\n",
    "        loss = self.calculate_loss(x, decoded)\n",
    "        self.add_loss(loss, inputs=inputs)\n",
    "        return x"
   ]
  }
 ],
 "metadata": {
  "kernelspec": {
   "display_name": "tensorflow-2.0",
   "language": "python",
   "name": "tf2"
  },
  "language_info": {
   "codemirror_mode": {
    "name": "ipython",
    "version": 3
   },
   "file_extension": ".py",
   "mimetype": "text/x-python",
   "name": "python",
   "nbconvert_exporter": "python",
   "pygments_lexer": "ipython3",
   "version": "3.6.8"
  }
 },
 "nbformat": 4,
 "nbformat_minor": 2
}
